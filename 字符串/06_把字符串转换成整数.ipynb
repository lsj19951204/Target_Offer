{
 "cells": [
  {
   "cell_type": "markdown",
   "metadata": {},
   "source": [
    "题目：将一个字符串转换成一个整数，要求不能使用字符串转换整数的库函数。 数值为0或者字符串不是一个合法的数值则返回0。"
   ]
  },
  {
   "cell_type": "markdown",
   "metadata": {},
   "source": [
    "思路：Python中str无相减，所以要利用ord()函数，将其转换成ascii码"
   ]
  },
  {
   "cell_type": "markdown",
   "metadata": {},
   "source": [
    "注意：\n",
    "\n",
    "1.指针是否为空指针以及字符串是否为空字符串；\n",
    "\n",
    "2.字符串对于正负号的处理；\n",
    "\n",
    "3.输入值是否为合法值，即小于等于'9'，大于等于'0'；"
   ]
  },
  {
   "cell_type": "code",
   "execution_count": 1,
   "metadata": {},
   "outputs": [
    {
     "name": "stdout",
     "output_type": "stream",
     "text": [
      "-1536\n"
     ]
    }
   ],
   "source": [
    "class Solution:\n",
    "    def StrToInt(self, s):\n",
    "        #空字符串返回0\n",
    "        if not s:\n",
    "            return 0\n",
    "        #正负号处理\n",
    "        if s[0] == '+':\n",
    "            return self.StrToIntCore(s[1:])\n",
    "        elif s[0] == '-':\n",
    "            return -1*self.StrToIntCore(s[1:])\n",
    "        return self.StrToIntCore(s)\n",
    "\n",
    "    def StrToIntCore(self,s):\n",
    "        num = 0\n",
    "        for i in s:\n",
    "            if ord(i) < ord('0') or ord(i) > ord('9'):\n",
    "                return 0\n",
    "            num = num * 10 + ord(i) - ord('0')\n",
    "        return num\n",
    "\n",
    "a = Solution()\n",
    "print(a.StrToInt('-1536'))"
   ]
  },
  {
   "cell_type": "code",
   "execution_count": null,
   "metadata": {},
   "outputs": [],
   "source": []
  }
 ],
 "metadata": {
  "kernelspec": {
   "display_name": "Python 3",
   "language": "python",
   "name": "python3"
  },
  "language_info": {
   "codemirror_mode": {
    "name": "ipython",
    "version": 3
   },
   "file_extension": ".py",
   "mimetype": "text/x-python",
   "name": "python",
   "nbconvert_exporter": "python",
   "pygments_lexer": "ipython3",
   "version": "3.7.1"
  }
 },
 "nbformat": 4,
 "nbformat_minor": 2
}
