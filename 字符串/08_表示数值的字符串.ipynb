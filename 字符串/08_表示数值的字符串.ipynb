{
 "cells": [
  {
   "cell_type": "markdown",
   "metadata": {},
   "source": [
    "题目:请实现一个函数用来判断字符串是否表示数值（包括整数和小数）。例如，字符串\"+100\",\"5e2\",\"-123\",\"3.1416\"和\"-1E-16\"都表示数值。 但是\"12e\",\"1a3.14\",\"1.2.3\",\"+-5\"和\"12e+4.3\"都不是。"
   ]
  },
  {
   "cell_type": "markdown",
   "metadata": {},
   "source": [
    "思路：\n",
    "\n",
    "我们假设数字的字符串都服从一个模式，即：在数值之前可能有一个表示正负的'+'或者'-'。接下来是若干个0到9的数位表示数值的整数部分（在某些小数里可能没有数值的整数部分）。如果数值是一个小数，那么在小数后面可能会有若干个0到9的数位表示数值的小数部分。如果数值用科学记数法表示，接下来是一个'e'或者'E'，以及紧跟着的一个整数（可以有正负号）表示指数。\n",
    "\n",
    "判断一个字符串是否符合上述模式时，首先看第一个字符是不是正负号。如果是，在字符串上移动一个字符，继续扫描剩余的字符串中0到9的数位。如果是一个小数，则将遇到小数点。另外，如果是用科学记数法表示的数值，在整数或者小数的后面还有可能遇到'e'或者'E'。\n"
   ]
  },
  {
   "cell_type": "code",
   "execution_count": 4,
   "metadata": {},
   "outputs": [],
   "source": [
    "class Solution:\n",
    "    # s字符串\n",
    "    def isNumeric(self, s):\n",
    "        sign, point, hasE = False, False, False\n",
    "        for i in range(len(s)):\n",
    "            if s[i].lower() == 'e':#.lower把E和e全部转化为小写字母来判断\n",
    "                if hasE: \n",
    "                    return False\n",
    "                if i == len(s)-1: #字符串最后一位为E也不是数字哦\n",
    "                    return False\n",
    "                hasE = True\n",
    "            elif s[i] == '+' or s[i] == '-':\n",
    "                #如果正负号前一位不是E或e也不是数字\n",
    "                if sign and s[i-1].lower() != 'e':\n",
    "                    return False\n",
    "                if not sign and i > 0 and s[i-1].lower() != 'e':\n",
    "                    return False\n",
    "                sign = True\n",
    "            elif s[i] == '.':\n",
    "                if hasE or point:\n",
    "                    return False\n",
    "                point = True\n",
    "            elif ord(s[i]) < ord('0') or ord(s[i]) > ord('9'):\n",
    "                return False\n",
    "        return True\n"
   ]
  },
  {
   "cell_type": "code",
   "execution_count": 5,
   "metadata": {},
   "outputs": [
    {
     "name": "stdout",
     "output_type": "stream",
     "text": [
      "True\n"
     ]
    }
   ],
   "source": [
    "s='-1E-16'\n",
    "a=Solution()\n",
    "print(a.isNumeric(s))"
   ]
  },
  {
   "cell_type": "code",
   "execution_count": null,
   "metadata": {},
   "outputs": [],
   "source": []
  }
 ],
 "metadata": {
  "kernelspec": {
   "display_name": "Python 3",
   "language": "python",
   "name": "python3"
  },
  "language_info": {
   "codemirror_mode": {
    "name": "ipython",
    "version": 3
   },
   "file_extension": ".py",
   "mimetype": "text/x-python",
   "name": "python",
   "nbconvert_exporter": "python",
   "pygments_lexer": "ipython3",
   "version": "3.7.1"
  }
 },
 "nbformat": 4,
 "nbformat_minor": 2
}
