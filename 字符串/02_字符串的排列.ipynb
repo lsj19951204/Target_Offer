{
 "cells": [
  {
   "cell_type": "markdown",
   "metadata": {},
   "source": [
    "题目：输入一个字符串,按字典序打印出该字符串中字符的所有排列。例如输入字符串abc，则打印出由字符a,b,c所能排列出来的所有字符串abc,acb,bac,bca,cab和cba。"
   ]
  },
  {
   "cell_type": "markdown",
   "metadata": {},
   "source": [
    "思路：我们求整个字符串的排列，可以看成两步：首先求所有可能出现在第一个位置的字符，即把第一个字符和后面所有的字符交换。"
   ]
  },
  {
   "cell_type": "code",
   "execution_count": 1,
   "metadata": {},
   "outputs": [],
   "source": [
    "class Solution:\n",
    "    def __init__(self):\n",
    "        self.result = []\n",
    "    def Permutation(self, ss):\n",
    "        if len(ss) == 0:\n",
    "            return []\n",
    "        self.PermutationCore(ss, 0)\n",
    "        sorted(self.result)\n",
    "        return self.result\n",
    "    def PermutationCore(self, str_, begin):\n",
    "        if begin == len(str_):\n",
    "            self.result.append(str_)\n",
    "            return\n",
    "        for i in range(begin, len(str_)):\n",
    "            if i != begin and str_[i] == str_[begin]:\n",
    "                continue\n",
    "            str_list = list(str_)\n",
    "            str_list[i], str_list[begin] = str_list[begin], str_list[i]\n",
    "            str_ = ''.join(str_list)\n",
    "            self.PermutationCore(str_, begin+1)"
   ]
  },
  {
   "cell_type": "code",
   "execution_count": 2,
   "metadata": {},
   "outputs": [
    {
     "name": "stdout",
     "output_type": "stream",
     "text": [
      "['abc', 'acb', 'bac', 'bca', 'cab', 'cba']\n"
     ]
    }
   ],
   "source": [
    "a=Solution()\n",
    "char='abc'\n",
    "print(a.Permutation(char))"
   ]
  },
  {
   "cell_type": "code",
   "execution_count": null,
   "metadata": {},
   "outputs": [],
   "source": []
  }
 ],
 "metadata": {
  "kernelspec": {
   "display_name": "Python 3",
   "language": "python",
   "name": "python3"
  },
  "language_info": {
   "codemirror_mode": {
    "name": "ipython",
    "version": 3
   },
   "file_extension": ".py",
   "mimetype": "text/x-python",
   "name": "python",
   "nbconvert_exporter": "python",
   "pygments_lexer": "ipython3",
   "version": "3.7.1"
  }
 },
 "nbformat": 4,
 "nbformat_minor": 2
}
