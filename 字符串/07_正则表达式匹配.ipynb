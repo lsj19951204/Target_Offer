{
 "cells": [
  {
   "cell_type": "markdown",
   "metadata": {},
   "source": [
    "题目：请实现一个函数用来匹配包括'.'和''的正则表达式。模式中的字符'.'表示任意一个字符，而''表示它前面的字符可以出现任意次（包含0次）。 在本题中，匹配是指字符串的所有字符匹配整个模式。例如，字符串\"aaa\"与模式\"a.a\"和\"abaca\"匹配，但是与\"aa.a\"和\"ab*a\"均不匹配"
   ]
  },
  {
   "cell_type": "code",
   "execution_count": 1,
   "metadata": {},
   "outputs": [
    {
     "name": "stdout",
     "output_type": "stream",
     "text": [
      "True\n"
     ]
    }
   ],
   "source": [
    "class Solution:\n",
    "    # s, pattern都是字符串\n",
    "    def match(self, s, pattern):\n",
    "        s = '^' + s \n",
    "        pattern = '^' + pattern\n",
    "        i = len(s) - 1\n",
    "        j = len(pattern) - 1\n",
    "        star_match = False\n",
    "        while i>=0 and j>=0:\n",
    "            if star_match:\n",
    "                if pattern[j] == '.' or pattern[j] == s[i]:\n",
    "                    if self.match(s[1:i], pattern[1:j]):  \n",
    "                        # 先靠前匹配，从1开始是去掉index为0的^\n",
    "                        return True\n",
    "                    else:\n",
    "                        i -= 1\n",
    "                else:\n",
    "                    j -= 1\n",
    "                    star_match = False\n",
    "            else:\n",
    "                if s[i] == pattern[j] or pattern[j] == '.':\n",
    "                    i -= 1\n",
    "                    j -= 1\n",
    "                elif pattern[j] == '*':\n",
    "                    star_match = True\n",
    "                    j -= 1\n",
    "                else:\n",
    "                    return False\n",
    "        return (i == -1 and j == -1)\n",
    "\n",
    "\n",
    "print(Solution().match('aa', 'a*'))"
   ]
  },
  {
   "cell_type": "code",
   "execution_count": null,
   "metadata": {},
   "outputs": [],
   "source": []
  }
 ],
 "metadata": {
  "kernelspec": {
   "display_name": "Python 3",
   "language": "python",
   "name": "python3"
  },
  "language_info": {
   "codemirror_mode": {
    "name": "ipython",
    "version": 3
   },
   "file_extension": ".py",
   "mimetype": "text/x-python",
   "name": "python",
   "nbconvert_exporter": "python",
   "pygments_lexer": "ipython3",
   "version": "3.7.1"
  }
 },
 "nbformat": 4,
 "nbformat_minor": 2
}
