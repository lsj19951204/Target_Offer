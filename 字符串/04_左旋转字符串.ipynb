{
 "cells": [
  {
   "cell_type": "markdown",
   "metadata": {},
   "source": [
    "题目：字符序列S=”abcXYZdef”,要求输出循环左移3位后的结果，即“XYZdefabc”"
   ]
  },
  {
   "cell_type": "code",
   "execution_count": 1,
   "metadata": {},
   "outputs": [],
   "source": [
    "class Solution:\n",
    "    def LeftRotateString(self, s, n):\n",
    "        length = len(s)\n",
    "        if n <= 0 or length == 0:\n",
    "            return s\n",
    "        if n > length:\n",
    "            n = n % length\n",
    "        return s[n:] + s[:n]"
   ]
  },
  {
   "cell_type": "code",
   "execution_count": 2,
   "metadata": {},
   "outputs": [
    {
     "name": "stdout",
     "output_type": "stream",
     "text": [
      "XYZdefabc\n"
     ]
    }
   ],
   "source": [
    "s='abcXYZdef'\n",
    "a=Solution()\n",
    "print(a.LeftRotateString(s,3))"
   ]
  },
  {
   "cell_type": "code",
   "execution_count": null,
   "metadata": {},
   "outputs": [],
   "source": []
  }
 ],
 "metadata": {
  "kernelspec": {
   "display_name": "Python 3",
   "language": "python",
   "name": "python3"
  },
  "language_info": {
   "codemirror_mode": {
    "name": "ipython",
    "version": 3
   },
   "file_extension": ".py",
   "mimetype": "text/x-python",
   "name": "python",
   "nbconvert_exporter": "python",
   "pygments_lexer": "ipython3",
   "version": "3.7.1"
  }
 },
 "nbformat": 4,
 "nbformat_minor": 2
}
