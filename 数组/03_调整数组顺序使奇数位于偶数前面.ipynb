{
 "cells": [
  {
   "cell_type": "markdown",
   "metadata": {},
   "source": [
    "### 调整数组顺序使奇数位于偶数前面"
   ]
  },
  {
   "cell_type": "code",
   "execution_count": 1,
   "metadata": {},
   "outputs": [
    {
     "name": "stdout",
     "output_type": "stream",
     "text": [
      "[1, 7, 3, 8, 2]\n"
     ]
    }
   ],
   "source": [
    "def ReorderOddEven(lis):\n",
    "    if not isinstance(lis,list) or not lis:\n",
    "        return\n",
    "    low,high = 0,len(lis)-1\n",
    "    while low < high:\n",
    "        while low<high and lis[low] % 2 == 1:#奇数就不处理往后移动一位\n",
    "            low += 1\n",
    "        while low < high and lis[high] %2 == 0:#偶数就调换位置\n",
    "            high -= 1\n",
    "        lis[low],lis[high] = lis[high],lis[low]\n",
    "\n",
    "lis = [1,8,3,7,2]\n",
    "ReorderOddEven(lis)\n",
    "print(lis)"
   ]
  },
  {
   "cell_type": "markdown",
   "metadata": {},
   "source": [
    "#### 用lambda解决"
   ]
  },
  {
   "cell_type": "code",
   "execution_count": 6,
   "metadata": {},
   "outputs": [],
   "source": [
    "def reOrderArray(array):\n",
    "    return sorted(array,key=lambda c:c%2,reverse=True)\n"
   ]
  },
  {
   "cell_type": "code",
   "execution_count": 7,
   "metadata": {},
   "outputs": [
    {
     "data": {
      "text/plain": [
       "[1, 3, 7, 8, 2]"
      ]
     },
     "execution_count": 7,
     "metadata": {},
     "output_type": "execute_result"
    }
   ],
   "source": [
    "lis = [1,8,3,7,2]\n",
    "reOrderArray(lis)"
   ]
  },
  {
   "cell_type": "code",
   "execution_count": null,
   "metadata": {},
   "outputs": [],
   "source": []
  }
 ],
 "metadata": {
  "kernelspec": {
   "display_name": "Python 3",
   "language": "python",
   "name": "python3"
  },
  "language_info": {
   "codemirror_mode": {
    "name": "ipython",
    "version": 3
   },
   "file_extension": ".py",
   "mimetype": "text/x-python",
   "name": "python",
   "nbconvert_exporter": "python",
   "pygments_lexer": "ipython3",
   "version": "3.7.1"
  }
 },
 "nbformat": 4,
 "nbformat_minor": 2
}
