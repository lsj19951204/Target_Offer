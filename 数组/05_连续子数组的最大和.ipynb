{
 "cells": [
  {
   "cell_type": "markdown",
   "metadata": {},
   "source": [
    "### 连续子数组的最大和\n",
    "一个小思考：如果数组里全为负数的话，最大和则应该只是一个数字"
   ]
  },
  {
   "cell_type": "code",
   "execution_count": 1,
   "metadata": {},
   "outputs": [],
   "source": [
    "class Solution:\n",
    "    def FindGreatestSumOfSubArray(self, array):\n",
    "        if not array:\n",
    "            return 0\n",
    "        nCurSum = 0\n",
    "        nGreatestSum = -float('inf')#最大和开始赋值为负无穷\n",
    "        for i in array:\n",
    "            if nCurSum<=0:\n",
    "                # 当nCureSum为负数的时候，抛弃前面的值\n",
    "                nCurSum = i\n",
    "            else:\n",
    "                nCurSum += i\n",
    "            if nCurSum > nGreatestSum:\n",
    "                nGreatestSum = nCurSum\n",
    "        return nGreatestSum"
   ]
  },
  {
   "cell_type": "code",
   "execution_count": 2,
   "metadata": {},
   "outputs": [
    {
     "name": "stdout",
     "output_type": "stream",
     "text": [
      "5\n"
     ]
    }
   ],
   "source": [
    "a = Solution()\n",
    "array = [-10,2,3,-1,-2]\n",
    "result = a.FindGreatestSumOfSubArray(array)\n",
    "print(result)"
   ]
  },
  {
   "cell_type": "markdown",
   "metadata": {},
   "source": [
    "暴力做法：遍历所有子数组，然后比较大小。"
   ]
  },
  {
   "cell_type": "code",
   "execution_count": 3,
   "metadata": {},
   "outputs": [],
   "source": [
    "def FindGreatestSumOfSubArray(array):\n",
    "    maxsum = -1e19\n",
    "    for i in range(len(array)-1):\n",
    "        for j in range(i+1, len(array)+1):\n",
    "            maxsum = max(maxsum, sum(array[i:j]))\n",
    "    return maxsum"
   ]
  },
  {
   "cell_type": "code",
   "execution_count": 4,
   "metadata": {},
   "outputs": [
    {
     "name": "stdout",
     "output_type": "stream",
     "text": [
      "5\n"
     ]
    }
   ],
   "source": [
    "list = [-10,2,3,-1,-2]\n",
    "result_2 = FindGreatestSumOfSubArray(list)\n",
    "print(result_2)"
   ]
  },
  {
   "cell_type": "code",
   "execution_count": null,
   "metadata": {},
   "outputs": [],
   "source": []
  }
 ],
 "metadata": {
  "kernelspec": {
   "display_name": "Python 3",
   "language": "python",
   "name": "python3"
  },
  "language_info": {
   "codemirror_mode": {
    "name": "ipython",
    "version": 3
   },
   "file_extension": ".py",
   "mimetype": "text/x-python",
   "name": "python",
   "nbconvert_exporter": "python",
   "pygments_lexer": "ipython3",
   "version": "3.7.1"
  }
 },
 "nbformat": 4,
 "nbformat_minor": 2
}
