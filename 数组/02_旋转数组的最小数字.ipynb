{
 "cells": [
  {
   "cell_type": "markdown",
   "metadata": {},
   "source": [
    "### 旋转数组的最小数字\n",
    "\n",
    "把一个数组最开始的若干个元素搬到数组的末尾，我们称之为数组的旋转。\n",
    "\n",
    "思路：二分法的一种变体。\n",
    "\n",
    "旋转数组的首元素肯定不小于旋转数组的尾元素，找一个中间点，如果中间点比首元素大，说明最小数字在中间点后面，如果中间点比尾元素小，说明最小数字在中间点前面。然后循环。 但是在一次循环中，首元素小于尾元素，说明该数组是排序的，首元素就是最小数字，如果出现首元素、尾元素、中间值三者相等，则只能在此区域中顺序查找。\n"
   ]
  },
  {
   "cell_type": "code",
   "execution_count": 1,
   "metadata": {},
   "outputs": [],
   "source": [
    "def Min(lis):\n",
    "    if not isinstance(lis,list) or not lis:\n",
    "        return\n",
    "    start , end = 0,len(lis)-1\n",
    "    mid = start\n",
    "    while lis[start] >= lis[end]:\n",
    "        if end - start == 1:\n",
    "            mid = end\n",
    "            break\n",
    "        mid = start + int((end-start)/2)\n",
    "        # 如果start,end和mid指向的值都相同，只能顺序查找\n",
    "        if lis[start]==lis[mid]==lis[end]:\n",
    "            mid = MinInOrder(lis,start,end)\n",
    "            break\n",
    "        if lis[mid] >= lis[start]:#说明mid在前一段序列中\n",
    "            start = mid\n",
    "        elif lis[mid] <= lis[end]:#说明mid在后一段序列中\n",
    "            end = mid\n",
    "    return lis[mid]\n",
    "\n",
    "def MinInOrder(lis,start,end):\n",
    "    val,min = lis[start],start\n",
    "    for i in range(start,end+1):\n",
    "        if lis[i]<val:\n",
    "            val = lis[i]\n",
    "            min = i\n",
    "    return min"
   ]
  },
  {
   "cell_type": "code",
   "execution_count": 2,
   "metadata": {},
   "outputs": [
    {
     "name": "stdout",
     "output_type": "stream",
     "text": [
      "1\n"
     ]
    }
   ],
   "source": [
    "if __name__ == '__main__':\n",
    "    lis = [3,4,5,1,2]\n",
    "    lis1 = [1,2,3,4,5]\n",
    "    lis2 = [1,0,1,1,1]\n",
    "    print(Min(lis))"
   ]
  },
  {
   "cell_type": "code",
   "execution_count": null,
   "metadata": {},
   "outputs": [],
   "source": []
  }
 ],
 "metadata": {
  "kernelspec": {
   "display_name": "Python 3",
   "language": "python",
   "name": "python3"
  },
  "language_info": {
   "codemirror_mode": {
    "name": "ipython",
    "version": 3
   },
   "file_extension": ".py",
   "mimetype": "text/x-python",
   "name": "python",
   "nbconvert_exporter": "python",
   "pygments_lexer": "ipython3",
   "version": "3.7.1"
  }
 },
 "nbformat": 4,
 "nbformat_minor": 2
}
