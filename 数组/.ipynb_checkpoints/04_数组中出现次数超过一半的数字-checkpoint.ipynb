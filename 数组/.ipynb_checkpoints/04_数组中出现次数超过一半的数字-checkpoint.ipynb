{
 "cells": [
  {
   "cell_type": "markdown",
   "metadata": {},
   "source": [
    "### 数组中出现次数超过一半的数字\n",
    "思路：\n",
    "\n",
    "\n",
    "1.利用快速排序。当快排插入的位置不等于mid时，相应的处理numbers的左边或者右边\n",
    "    因为当出现的次数超过一半时，中间的数字肯定是结果\n",
    "    但我这里优化了一下快排，返回的是一个范围\n",
    "    因为书上的快排方法，会反复的排列重复的数字\n",
    "\n",
    "2.用一个list来存储数字和该数字出现的次数，最后保存的是出现次数过半的数字"
   ]
  },
  {
   "cell_type": "code",
   "execution_count": 1,
   "metadata": {},
   "outputs": [],
   "source": [
    "class Solution_1:\n",
    "    # 利用将数组进行排序，然后返回中间值\n",
    "    def MoreThanHalfNum_Solution(self, numbers):\n",
    "        if not isinstance(numbers, list) or not numbers:\n",
    "            return 0\n",
    "        mid = len(numbers) >> 1#len(numbers)>>1实际上是在找中位数\n",
    "        numbers.sort()\n",
    "        result = numbers[mid]#取排序后中间那个数\n",
    "        if self.CheckMoreThanHalf(numbers,result):\n",
    "            return result\n",
    "        else:\n",
    "            return 0\n",
    "\n",
    "    def CheckMoreThanHalf(self,numbers,number):\n",
    "        numcount = 0\n",
    "        for i in numbers:\n",
    "            if number == i:\n",
    "                numcount += 1\n",
    "        if numcount > (len(numbers)>>1):\n",
    "            return True\n",
    "        else:\n",
    "            return False"
   ]
  },
  {
   "cell_type": "code",
   "execution_count": 2,
   "metadata": {},
   "outputs": [
    {
     "name": "stdout",
     "output_type": "stream",
     "text": [
      "2\n"
     ]
    }
   ],
   "source": [
    "numbers = [1,2,3,2,2,2,5,4,2]\n",
    "a = Solution_1()\n",
    "b = a.MoreThanHalfNum_Solution(numbers)\n",
    "print(b)"
   ]
  },
  {
   "cell_type": "code",
   "execution_count": 3,
   "metadata": {},
   "outputs": [],
   "source": [
    "class Solution_2:\n",
    "    def MoreThanHalfNum_Solution(self,numbers):\n",
    "        if not isinstance(numbers, list) or not numbers:\n",
    "            return 0\n",
    "        result = [numbers[0],1]\n",
    "        for i in numbers[1:]:\n",
    "            if i == result[0]:\n",
    "                # 如果该数字与记录的数字相同，则次数加一\n",
    "                result[1] += 1\n",
    "            elif result[1] == 0:\n",
    "                result[0] = i\n",
    "                result[1] = 1\n",
    "            else:\n",
    "                result[1] -= 1\n",
    "        if self.CheckMoreThanHalf(numbers,result[0]):\n",
    "            return result[0]\n",
    "        else:\n",
    "            return 0\n",
    "\n",
    "    def CheckMoreThanHalf(self,numbers,number):\n",
    "        times = 0\n",
    "        for i in numbers:\n",
    "            if number == i:\n",
    "                times += 1\n",
    "        if times > (len(numbers)>>1):#len(numbers)>>1实际上是在找中位数\n",
    "            return True\n",
    "        else:\n",
    "            return False"
   ]
  },
  {
   "cell_type": "code",
   "execution_count": 4,
   "metadata": {},
   "outputs": [
    {
     "name": "stdout",
     "output_type": "stream",
     "text": [
      "2\n"
     ]
    }
   ],
   "source": [
    "numbers = [1,2,3,2,2,2,5,4,2]\n",
    "a = Solution_2()\n",
    "b = a.MoreThanHalfNum_Solution(numbers)\n",
    "print(b)"
   ]
  },
  {
   "cell_type": "code",
   "execution_count": null,
   "metadata": {},
   "outputs": [],
   "source": []
  }
 ],
 "metadata": {
  "kernelspec": {
   "display_name": "Python 3",
   "language": "python",
   "name": "python3"
  },
  "language_info": {
   "codemirror_mode": {
    "name": "ipython",
    "version": 3
   },
   "file_extension": ".py",
   "mimetype": "text/x-python",
   "name": "python",
   "nbconvert_exporter": "python",
   "pygments_lexer": "ipython3",
   "version": "3.7.1"
  }
 },
 "nbformat": 4,
 "nbformat_minor": 2
}
