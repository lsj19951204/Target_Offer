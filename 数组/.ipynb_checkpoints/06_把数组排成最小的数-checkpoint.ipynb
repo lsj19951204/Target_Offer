{
 "cells": [
  {
   "cell_type": "markdown",
   "metadata": {},
   "source": [
    "### 把数组排成最小的数"
   ]
  },
  {
   "cell_type": "code",
   "execution_count": 1,
   "metadata": {},
   "outputs": [],
   "source": [
    "class Solution:\n",
    "    def PrintMinNumber(self,numbers):\n",
    "        if not numbers:\n",
    "            return ''\n",
    "        vec = []\n",
    "        self.Permutation(numbers,0,vec)\n",
    "        vec.sort()\n",
    "        return vec[0]\n",
    "\n",
    "    def Permutation(self,numbers,n,vec):\n",
    "        if n >= len(numbers):\n",
    "            vec.append(int(''.join(map(str,numbers))))\n",
    "        for i in range(n,len(numbers)):\n",
    "            numbers[i],numbers[n] = numbers[n],numbers[i]\n",
    "            self.Permutation(numbers,n+1,vec)\n",
    "            numbers[i], numbers[n] = numbers[n], numbers[i]\n",
    "\n",
    "    def check(self,numbers,n,i):\n",
    "        if i > n:\n",
    "            for j in range(n,i):\n",
    "                if numbers[j] == numbers[i]:\n",
    "                    return False\n",
    "        return True"
   ]
  },
  {
   "cell_type": "code",
   "execution_count": 2,
   "metadata": {},
   "outputs": [
    {
     "name": "stdout",
     "output_type": "stream",
     "text": [
      "12345\n"
     ]
    }
   ],
   "source": [
    "lis =[3,5,1,4,2]\n",
    "a = Solution()\n",
    "b=a.PrintMinNumber(lis)\n",
    "print(b)"
   ]
  },
  {
   "cell_type": "markdown",
   "metadata": {},
   "source": [
    "另一种解法：对数组内的数字两两比较，寻找str1str2，和str2str1两种组合中较小的一个。两两较小，最后得到的即最小。"
   ]
  },
  {
   "cell_type": "code",
   "execution_count": 9,
   "metadata": {},
   "outputs": [],
   "source": [
    "class Solution2:\n",
    "    def PrintMinNumber(self,numbers):\n",
    "        if not numbers:\n",
    "            return ''\n",
    "        numbers = [str(num) for num in numbers]\n",
    "        for i in range(len(numbers)-1):\n",
    "            for j in range(i+1, len(numbers)):\n",
    "                if numbers[j] + numbers[i] < numbers[i] + numbers[j]:\n",
    "                    numbers[i],numbers[j] = numbers[j],numbers[i]\n",
    "        return ''.join(numbers)\n",
    "\n"
   ]
  },
  {
   "cell_type": "code",
   "execution_count": 10,
   "metadata": {},
   "outputs": [
    {
     "name": "stdout",
     "output_type": "stream",
     "text": [
      "12345\n"
     ]
    }
   ],
   "source": [
    "lis =[3,5,1,4,2]\n",
    "c = Solution2()\n",
    "d=c.PrintMinNumber(lis)\n",
    "print(d)"
   ]
  },
  {
   "cell_type": "code",
   "execution_count": null,
   "metadata": {},
   "outputs": [],
   "source": []
  }
 ],
 "metadata": {
  "kernelspec": {
   "display_name": "Python 3",
   "language": "python",
   "name": "python3"
  },
  "language_info": {
   "codemirror_mode": {
    "name": "ipython",
    "version": 3
   },
   "file_extension": ".py",
   "mimetype": "text/x-python",
   "name": "python",
   "nbconvert_exporter": "python",
   "pygments_lexer": "ipython3",
   "version": "3.7.1"
  }
 },
 "nbformat": 4,
 "nbformat_minor": 2
}
