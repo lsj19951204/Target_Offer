{
 "cells": [
  {
   "cell_type": "markdown",
   "metadata": {},
   "source": [
    "### 数组中的逆序对\n",
    "第一种方式是简单粗暴，每次都和后面的相比，时间复杂度是O(n)\n",
    "\n",
    "第二种方法利用了递归的思想，很有意思，但很难想到，时间复杂度是O(nlo"
   ]
  },
  {
   "cell_type": "code",
   "execution_count": 1,
   "metadata": {},
   "outputs": [],
   "source": [
    "# 用于修改递归最大深度，否则在牛客网上跑会超时\n",
    "import sys\n",
    "sys.setrecursionlimit(1000000)\n",
    "class Solution:\n",
    "    def InversePairs(self, data):\n",
    "        if not data :\n",
    "            return 0\n",
    "        Copy = [i for i in data]\n",
    "        count = self.InversePairsCore(data, Copy, 0, len(data) - 1)\n",
    "        del Copy\n",
    "        return count % 1000000007\n",
    "\n",
    "    def InversePairsCore(self,data,Copy,start,end):\n",
    "        if start == end:\n",
    "            Copy[start] == data[start]\n",
    "            return 0\n",
    "\n",
    "        mid = int((start + end) / 2)\n",
    "\n",
    "        left = self.InversePairsCore(Copy, data, start, mid)\n",
    "        right = self.InversePairsCore(Copy, data, mid + 1, end)\n",
    "\n",
    "        # 下面相当于merge\n",
    "        # i初始化为前半段最后一个数字的下标，j初始化为后半段最后一个数字的下标\n",
    "        i, j = mid, end\n",
    "        indexCopy = end\n",
    "        count = 0\n",
    "        while i >= start and j >= mid + 1:\n",
    "            if data[i]>data[j]:\n",
    "                Copy[indexCopy] = data[i]\n",
    "                indexCopy -= 1\n",
    "                i -= 1\n",
    "                count += j - mid\n",
    "            else:\n",
    "                Copy[indexCopy] = data[j]\n",
    "                indexCopy -= 1\n",
    "                j -= 1\n",
    "\n",
    "        # 进行到这里，说明知道有一个数组已经到头了，或者是i或者是j\n",
    "        while i >= start:\n",
    "            Copy[indexCopy] = data[i]\n",
    "            indexCopy -= 1\n",
    "            i -= 1\n",
    "        while j >= mid + 1:\n",
    "            Copy[indexCopy] = data[j]\n",
    "            indexCopy -= 1\n",
    "            j -= 1\n",
    "\n",
    "        return left + right + count"
   ]
  },
  {
   "cell_type": "code",
   "execution_count": 2,
   "metadata": {},
   "outputs": [
    {
     "name": "stdout",
     "output_type": "stream",
     "text": [
      "10\n"
     ]
    }
   ],
   "source": [
    "lis = [7,5,6,4,8,3]\n",
    "a = Solution()\n",
    "b = a.InversePairs(lis)\n",
    "print(b)"
   ]
  },
  {
   "cell_type": "code",
   "execution_count": 3,
   "metadata": {},
   "outputs": [
    {
     "name": "stdout",
     "output_type": "stream",
     "text": [
      "5\n"
     ]
    }
   ],
   "source": [
    "# 非递归版本\n",
    "class Solution2:\n",
    "    def InversePairs(self, data):\n",
    "        if not data :\n",
    "            return 0\n",
    "        temp = [0]*len(data)\n",
    "        k = 1\n",
    "        count = 0\n",
    "        while k < len(data):\n",
    "            count += self.InversePairsCore(data,temp,k)\n",
    "            k *=2\n",
    "        return count % 1000000007\n",
    "\n",
    "    def InversePairsCore(self,data,temp,k):\n",
    "        length = len(data)\n",
    "        i = 0\n",
    "        count = 0\n",
    "        while i <= length - 2 * k:\n",
    "            count += self.Merge(data, temp, i, i + k - 1, i + 2 * k - 1)\n",
    "            i += 2 * k\n",
    "        if i + k - 1 < length - 1:\n",
    "            count += self.Merge(data, temp, i, i + k - 1, length - 1)\n",
    "        return count\n",
    "\n",
    "    def Merge(self,data,temp,start,mid,end):\n",
    "        # 分别是两个半段的末尾的指针\n",
    "        i,j = mid,end\n",
    "        tempIndex = end  # 缓存数组的指针\n",
    "        count = 0\n",
    "        while i >= start and j >= mid+1:\n",
    "            if data[i] > data[j]:\n",
    "                temp[tempIndex] = data[i]\n",
    "                count += j - mid\n",
    "                tempIndex -= 1\n",
    "                i -= 1\n",
    "            else:\n",
    "                temp[tempIndex] = data[j]\n",
    "                tempIndex -= 1\n",
    "                j -= 1\n",
    "\n",
    "        while i >= start:\n",
    "            temp[tempIndex] = data[i]\n",
    "            tempIndex -= 1\n",
    "            i -= 1\n",
    "        while j >= mid + 1:\n",
    "            temp[tempIndex] = data[j]\n",
    "            tempIndex -= 1\n",
    "            j -= 1\n",
    "\n",
    "        data[start:end+1] = temp[start:end+1]# 将缓存数组里面的数据复制回去原来的数组\n",
    "        return count\n",
    "\n",
    "lis = [7,5,6,4]\n",
    "a = Solution2()\n",
    "b = a.InversePairs(lis)\n",
    "print(b)"
   ]
  },
  {
   "cell_type": "code",
   "execution_count": null,
   "metadata": {},
   "outputs": [],
   "source": []
  }
 ],
 "metadata": {
  "kernelspec": {
   "display_name": "Python 3",
   "language": "python",
   "name": "python3"
  },
  "language_info": {
   "codemirror_mode": {
    "name": "ipython",
    "version": 3
   },
   "file_extension": ".py",
   "mimetype": "text/x-python",
   "name": "python",
   "nbconvert_exporter": "python",
   "pygments_lexer": "ipython3",
   "version": "3.7.1"
  }
 },
 "nbformat": 4,
 "nbformat_minor": 2
}
