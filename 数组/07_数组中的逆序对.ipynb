{
 "cells": [
  {
   "cell_type": "markdown",
   "metadata": {},
   "source": [
    "### 数组中的逆序对\n",
    "利用了递归的思想"
   ]
  },
  {
   "cell_type": "code",
   "execution_count": 1,
   "metadata": {},
   "outputs": [],
   "source": [
    "# 用于修改递归最大深度，否则在牛客网上跑会超时\n",
    "import sys\n",
    "sys.setrecursionlimit(1000000)\n",
    "class Solution:\n",
    "    def InversePairs(self, data):\n",
    "        if not data :\n",
    "            return 0\n",
    "        Copy = [i for i in data]\n",
    "        count = self.InversePairsCore(data, Copy, 0, len(data) - 1)\n",
    "        del Copy\n",
    "        return count % 1000000007\n",
    "\n",
    "    def InversePairsCore(self,data,Copy,start,end):\n",
    "        if start == end:\n",
    "            Copy[start] == data[start]\n",
    "            return 0\n",
    "\n",
    "        mid = int((start + end) / 2)\n",
    "\n",
    "        left = self.InversePairsCore(Copy, data, start, mid)\n",
    "        right = self.InversePairsCore(Copy, data, mid + 1, end)\n",
    "\n",
    "        # 下面相当于merge\n",
    "        # i初始化为前半段最后一个数字的下标，j初始化为后半段最后一个数字的下标\n",
    "        i, j = mid, end\n",
    "        indexCopy = end\n",
    "        count = 0\n",
    "        while i >= start and j >= mid + 1:\n",
    "            if data[i]>data[j]:\n",
    "                Copy[indexCopy] = data[i]\n",
    "                indexCopy -= 1\n",
    "                i -= 1\n",
    "                count += j - mid\n",
    "            else:\n",
    "                Copy[indexCopy] = data[j]\n",
    "                indexCopy -= 1\n",
    "                j -= 1\n",
    "\n",
    "        # 进行到这里，说明知道有一个数组已经到头了，或者是i或者是j\n",
    "        while i >= start:\n",
    "            Copy[indexCopy] = data[i]\n",
    "            indexCopy -= 1\n",
    "            i -= 1\n",
    "        while j >= mid + 1:\n",
    "            Copy[indexCopy] = data[j]\n",
    "            indexCopy -= 1\n",
    "            j -= 1\n",
    "\n",
    "        return left + right + count"
   ]
  },
  {
   "cell_type": "code",
   "execution_count": 2,
   "metadata": {},
   "outputs": [
    {
     "name": "stdout",
     "output_type": "stream",
     "text": [
      "10\n"
     ]
    }
   ],
   "source": [
    "lis = [7,5,6,4,8,3]\n",
    "a = Solution()\n",
    "b = a.InversePairs(lis)\n",
    "print(b)"
   ]
  },
  {
   "cell_type": "markdown",
   "metadata": {},
   "source": [
    "直接暴力法，双指针，判断当前指针的数是否大于第二个指针的数字"
   ]
  },
  {
   "cell_type": "code",
   "execution_count": 4,
   "metadata": {},
   "outputs": [],
   "source": [
    "class Solution2:\n",
    "    def InversePairs(self, data):\n",
    "        length = len(data)\n",
    "        count = 0\n",
    "        for i in range(length-1):\n",
    "            for j in range(i+1, length):\n",
    "                if data[i] > data[j]:\n",
    "                    count += 1\n",
    "        return count%1000000007"
   ]
  },
  {
   "cell_type": "code",
   "execution_count": 5,
   "metadata": {},
   "outputs": [
    {
     "name": "stdout",
     "output_type": "stream",
     "text": [
      "10\n"
     ]
    }
   ],
   "source": [
    "lis = [7,5,6,4,8,3]\n",
    "a = Solution2()\n",
    "b = a.InversePairs(lis)\n",
    "print(b)"
   ]
  },
  {
   "cell_type": "markdown",
   "metadata": {},
   "source": [
    "将原数组排序，然后从小到大遍历排序数组，求这个数在原数组中的index，这个index就代表有多少个数字在该数的前面。"
   ]
  },
  {
   "cell_type": "code",
   "execution_count": 6,
   "metadata": {},
   "outputs": [],
   "source": [
    "class Solution3:\n",
    "    def InversePairs(self, data):\n",
    "        data2 = sorted(data)\n",
    "        length = len(data)\n",
    "        count = 0\n",
    "        for num in data2:\n",
    "            count += data.index(num)\n",
    "            data.remove(num)\n",
    "        return count%1000000007"
   ]
  },
  {
   "cell_type": "code",
   "execution_count": 7,
   "metadata": {},
   "outputs": [
    {
     "name": "stdout",
     "output_type": "stream",
     "text": [
      "10\n"
     ]
    }
   ],
   "source": [
    "lis = [7,5,6,4,8,3]\n",
    "a = Solution3()\n",
    "b = a.InversePairs(lis)\n",
    "print(b)"
   ]
  },
  {
   "cell_type": "code",
   "execution_count": null,
   "metadata": {},
   "outputs": [],
   "source": []
  }
 ],
 "metadata": {
  "kernelspec": {
   "display_name": "Python 3",
   "language": "python",
   "name": "python3"
  },
  "language_info": {
   "codemirror_mode": {
    "name": "ipython",
    "version": 3
   },
   "file_extension": ".py",
   "mimetype": "text/x-python",
   "name": "python",
   "nbconvert_exporter": "python",
   "pygments_lexer": "ipython3",
   "version": "3.7.1"
  }
 },
 "nbformat": 4,
 "nbformat_minor": 2
}
