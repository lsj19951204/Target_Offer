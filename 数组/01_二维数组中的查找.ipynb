{
 "cells": [
  {
   "cell_type": "markdown",
   "metadata": {},
   "source": [
    "### 二维数组中的查找"
   ]
  },
  {
   "cell_type": "markdown",
   "metadata": {},
   "source": [
    "思路：从右上或者左下开始查找。\n",
    "\n",
    "从右上开始查找：如果数组中的数比这个整数大，向左移动一位，如果数组中的数比这个数小，向下移动一位"
   ]
  },
  {
   "cell_type": "code",
   "execution_count": 1,
   "metadata": {},
   "outputs": [],
   "source": [
    "import numpy as np\n",
    "def Find(lis,num):\n",
    "    # 首先判断其是不是空的list\n",
    "    if not isinstance(lis,list) or len(lis) == 0:\n",
    "        print('空的list')\n",
    "        return False\n",
    "    m,n = np.shape(lis)\n",
    "    rows,columns = 0,n-1#行和列\n",
    "    while rows<m and columns>=0:\n",
    "        if num == lis[rows][columns]:\n",
    "            # 当查找到该值，返回true\n",
    "            return True\n",
    "        elif num < lis[rows][columns]:\n",
    "            # 当num小于右上角，说明值在左边\n",
    "            columns -= 1\n",
    "        else:\n",
    "            rows += 1\n",
    "    return False"
   ]
  },
  {
   "cell_type": "code",
   "execution_count": 2,
   "metadata": {},
   "outputs": [
    {
     "name": "stdout",
     "output_type": "stream",
     "text": [
      "True\n"
     ]
    }
   ],
   "source": [
    "if __name__ == '__main__':\n",
    "    lis = [[1,2,8,9],\n",
    "           [2,4,9,12],\n",
    "           [4,7,10,13],\n",
    "           [6,8,11,15]]\n",
    "    lis1 = []\n",
    "    # print(Find(lis, 9.5))\n",
    "    print(Find(lis,9))"
   ]
  },
  {
   "cell_type": "code",
   "execution_count": null,
   "metadata": {},
   "outputs": [],
   "source": []
  }
 ],
 "metadata": {
  "kernelspec": {
   "display_name": "Python 3",
   "language": "python",
   "name": "python3"
  },
  "language_info": {
   "codemirror_mode": {
    "name": "ipython",
    "version": 3
   },
   "file_extension": ".py",
   "mimetype": "text/x-python",
   "name": "python",
   "nbconvert_exporter": "python",
   "pygments_lexer": "ipython3",
   "version": "3.7.1"
  }
 },
 "nbformat": 4,
 "nbformat_minor": 2
}
