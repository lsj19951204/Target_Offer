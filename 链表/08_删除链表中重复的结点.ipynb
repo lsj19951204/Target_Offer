{
 "cells": [
  {
   "cell_type": "markdown",
   "metadata": {},
   "source": [
    "题目：在一个排序的链表中，存在重复的结点，请删除该链表中重复的结点，重复的结点不保留，返回链表头指针。 例如，链表1->2->3->3->4->4->5 处理后为 1->2->5。"
   ]
  },
  {
   "cell_type": "markdown",
   "metadata": {},
   "source": [
    "思路：删除重复结点，只需要记录当前结点前的最晚访问过的不重复结点pPre、当前结点pCur、指向当前结点后面的结点pNext的三个指针即可。如果当前节点和它后面的几个结点数值相同，那么这些结点都要被剔除，然后更新pPre和pCur；如果不相同，则直接更新pPre和pCur。\n",
    "\n",
    "需要考虑的是，如果第一个结点是重复结点我们该怎么办？这里我们分别处理一下就好，如果第一个结点是重复结点，那么就把头指针pHead也更新一下。"
   ]
  },
  {
   "cell_type": "code",
   "execution_count": 4,
   "metadata": {},
   "outputs": [],
   "source": [
    "class ListNode:\n",
    "    def __init__(self, x):\n",
    "        self.val = x\n",
    "        self.next = None\n",
    "    \n",
    "    \n",
    "class Solution:\n",
    "    def deleteDuplication(self, pHead):\n",
    "        pPre = None\n",
    "        pCur = pHead\n",
    "        pNext = None\n",
    "        while pCur != None:\n",
    "            if pCur.next != None and pCur.val == pCur.next.val:\n",
    "                pNext = pCur.next\n",
    "                while pNext.next != None and pNext.next.val == pCur.val:\n",
    "                    pNext = pNext.next\n",
    "                if pCur == pHead:\n",
    "                    pHead = pNext.next\n",
    "                else:\n",
    "                    pPre.next = pNext.next\n",
    "                pCur = pNext.next\n",
    "            else:\n",
    "                pPre = pCur\n",
    "                pCur = pCur.next\n",
    "        return pHead"
   ]
  },
  {
   "cell_type": "code",
   "execution_count": null,
   "metadata": {},
   "outputs": [],
   "source": []
  }
 ],
 "metadata": {
  "kernelspec": {
   "display_name": "Python 3",
   "language": "python",
   "name": "python3"
  },
  "language_info": {
   "codemirror_mode": {
    "name": "ipython",
    "version": 3
   },
   "file_extension": ".py",
   "mimetype": "text/x-python",
   "name": "python",
   "nbconvert_exporter": "python",
   "pygments_lexer": "ipython3",
   "version": "3.7.1"
  }
 },
 "nbformat": 4,
 "nbformat_minor": 2
}
