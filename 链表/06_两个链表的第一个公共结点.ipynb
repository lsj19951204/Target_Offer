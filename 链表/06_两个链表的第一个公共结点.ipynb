{
 "cells": [
  {
   "cell_type": "markdown",
   "metadata": {},
   "source": [
    "思路：首先获得两个链表的长度，让长的链表先走“两链表长度之差”步，让他们相遇的时候，就是公共节点"
   ]
  },
  {
   "cell_type": "code",
   "execution_count": 4,
   "metadata": {},
   "outputs": [],
   "source": [
    "class ListNode:\n",
    "    def __init__(self, x):\n",
    "        self.val = x\n",
    "        self.next = None\n",
    "class Solution:\n",
    "    # 当两链表一样长的时候，它们的公共节点的数目是一样，\n",
    "    # 所以此时大家一起前进，会有p1==p2的情况\n",
    "    # 当两链表不等长的时候，当短的链表走完的时候，它会重新指向长的链表，\n",
    "    # 然后当长的链表走完的时候，会指向短的链表。\n",
    "    # 此时，两链表到公共节点的距离就相等了。\n",
    "    # 因为当短链表走完时，两指针之间的差值就相当于上面的nLengthDif\n",
    "    def FindFirstCommonNode(self, pHead1, pHead2):\n",
    "        p1 = pHead1\n",
    "        p2 = pHead2\n",
    "        while p1!=p2:\n",
    "            p1 = p1.next if p1!=None else pHead2\n",
    "            p2 = p2.next if p2!=None else pHead1\n",
    "        return p1\n"
   ]
  },
  {
   "cell_type": "code",
   "execution_count": 7,
   "metadata": {},
   "outputs": [
    {
     "name": "stdout",
     "output_type": "stream",
     "text": [
      "6\n"
     ]
    }
   ],
   "source": [
    "if __name__ == '__main__':\n",
    "    node1 = ListNode(1)\n",
    "    node2 = ListNode(2)\n",
    "    node3 = ListNode(3)\n",
    "    node4 = ListNode(4)\n",
    "    node5 = ListNode(5)\n",
    "    node6 = ListNode(6)\n",
    "    node7 = ListNode(7)\n",
    "\n",
    "    node1.next=node2\n",
    "    node2.next=node3\n",
    "    node3.next=node6\n",
    "    node6.next=node7\n",
    "    node4.next=node5\n",
    "    node5.next=node6\n",
    "\n",
    "a = Solution()\n",
    "b = a.FindFirstCommonNode(node1,node4)\n",
    "print(b.val)"
   ]
  },
  {
   "cell_type": "code",
   "execution_count": null,
   "metadata": {},
   "outputs": [],
   "source": []
  }
 ],
 "metadata": {
  "kernelspec": {
   "display_name": "Python 3",
   "language": "python",
   "name": "python3"
  },
  "language_info": {
   "codemirror_mode": {
    "name": "ipython",
    "version": 3
   },
   "file_extension": ".py",
   "mimetype": "text/x-python",
   "name": "python",
   "nbconvert_exporter": "python",
   "pygments_lexer": "ipython3",
   "version": "3.7.1"
  }
 },
 "nbformat": 4,
 "nbformat_minor": 2
}
