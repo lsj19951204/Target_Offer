{
 "cells": [
  {
   "cell_type": "markdown",
   "metadata": {},
   "source": [
    "题目：输入一个复杂链表（每个节点中有节点值，以及两个指针，一个指向下一个节点，另一个特殊指针指向任意一个节点），返回结果为复制后复杂链表的head。（注意，输出结果中请不要返回参数中的节点引用，否则判题程序会直接返回空）"
   ]
  },
  {
   "cell_type": "markdown",
   "metadata": {},
   "source": [
    "思路：\n",
    "\n",
    "第一步：复制复杂指针的label和next。但是这次我们把复制的结点跟在元结点后面，而不是直接创建新的链表；\n",
    "\n",
    "第二步：设置复制出来的结点的random。因为新旧结点是前后对应关系，所以也是一步就能找到random；\n",
    "\n",
    "第三步：拆分链表。奇数是原链表，偶数是复制的链表。"
   ]
  },
  {
   "cell_type": "code",
   "execution_count": 5,
   "metadata": {},
   "outputs": [],
   "source": [
    "class RandomListNode:\n",
    "     def __init__(self, x):\n",
    "        self.label = x\n",
    "        self.next = None\n",
    "        self.random = None\n",
    "class Solution:\n",
    "    # 返回 RandomListNode\n",
    "    def Clone(self, pHead):\n",
    "        if pHead==None:\n",
    "            return pHead\n",
    "        curNode = pHead\n",
    "        #复制链表\n",
    "        while curNode!=None:\n",
    "            newNode = RandomListNode(curNode.label)\n",
    "            newNode.next = curNode.next\n",
    "            curNode.next = newNode\n",
    "            curNode = newNode.next\n",
    "        #复制sib节点\n",
    "        curNode = pHead\n",
    "        while curNode!=None:\n",
    "            if curNode.random!=None:\n",
    "                curNode.next.random = curNode.random.next\n",
    "                #NodeA random指向的 下一个值 应该赋给下一个Node 的random\n",
    "            curNode = curNode.next.next\n",
    "        #新旧链表分离,奇偶分离\n",
    "        head = pHead.next\n",
    "        cur = head\n",
    "        #将新旧链表分离\n",
    "        pCur = pHead\n",
    "        while(pCur != None):\n",
    "            pCur.next = pCur.next.next\n",
    "            if cur.next != None:\n",
    "                cur.next = cur.next.next\n",
    "            cur = cur.next\n",
    "            pCur = pCur.next\n",
    "        return head"
   ]
  },
  {
   "cell_type": "code",
   "execution_count": null,
   "metadata": {},
   "outputs": [],
   "source": []
  }
 ],
 "metadata": {
  "kernelspec": {
   "display_name": "Python 3",
   "language": "python",
   "name": "python3"
  },
  "language_info": {
   "codemirror_mode": {
    "name": "ipython",
    "version": 3
   },
   "file_extension": ".py",
   "mimetype": "text/x-python",
   "name": "python",
   "nbconvert_exporter": "python",
   "pygments_lexer": "ipython3",
   "version": "3.7.1"
  }
 },
 "nbformat": 4,
 "nbformat_minor": 2
}
