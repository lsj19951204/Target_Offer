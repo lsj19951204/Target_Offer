{
 "cells": [
  {
   "cell_type": "markdown",
   "metadata": {},
   "source": [
    "### 反转链表"
   ]
  },
  {
   "cell_type": "markdown",
   "metadata": {},
   "source": [
    "思路："
   ]
  },
  {
   "cell_type": "code",
   "execution_count": 2,
   "metadata": {},
   "outputs": [
    {
     "name": "stdout",
     "output_type": "stream",
     "text": [
      "6 5 4 3 2 1 "
     ]
    }
   ],
   "source": [
    "class ListNode:\n",
    "\tdef __init__(self,data=None,next=None):\n",
    "\t\tself.data = data\n",
    "\t\tself.next = next\n",
    "\n",
    "def ReverseList(Node):\n",
    "\tpReversedHead = None # 用于返回的头结点\n",
    "\tpNode = Node\n",
    "\tpPrev = None # pNode之前的指针\n",
    "\twhile pNode:\n",
    "\t\tpNext = pNode.next # pNode之后的指针\n",
    "\t\tif not pNext:\n",
    "\t\t\tpReversedHead = pNode\n",
    "\t\tpNode.next = pPrev\n",
    "\t\tpPrev = pNode\n",
    "\t\tpNode = pNext\n",
    "\treturn pReversedHead\n",
    "\n",
    "if __name__ == '__main__':\n",
    "    node1 = ListNode(1)\n",
    "    node2 = ListNode(2)\n",
    "    node3 = ListNode(3)\n",
    "    node4 = ListNode(4)\n",
    "    node5 = ListNode(5)\n",
    "    node6 = ListNode(6)\n",
    "\n",
    "    node1.next = node2\n",
    "    node2.next = node3\n",
    "    node3.next = node4\n",
    "    node4.next = node5\n",
    "    node5.next = node6\n",
    "    pReversedHead = ReverseList(node1)\n",
    "\n",
    "    while pReversedHead:\n",
    "        print(pReversedHead.data,end=' ')\n",
    "        pReversedHead = pReversedHead.next"
   ]
  },
  {
   "cell_type": "code",
   "execution_count": null,
   "metadata": {},
   "outputs": [],
   "source": []
  }
 ],
 "metadata": {
  "kernelspec": {
   "display_name": "Python 3",
   "language": "python",
   "name": "python3"
  },
  "language_info": {
   "codemirror_mode": {
    "name": "ipython",
    "version": 3
   },
   "file_extension": ".py",
   "mimetype": "text/x-python",
   "name": "python",
   "nbconvert_exporter": "python",
   "pygments_lexer": "ipython3",
   "version": "3.7.1"
  }
 },
 "nbformat": 4,
 "nbformat_minor": 2
}
