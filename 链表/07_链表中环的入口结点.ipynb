{
 "cells": [
  {
   "cell_type": "markdown",
   "metadata": {},
   "source": [
    "思路：\n",
    "\n",
    "可以用两个指针来解决这个问题。先定义两个指针P1和P2指向链表的头结点。如果链表中的环有n个结点，指针P1先在链表上向前移动n步，然后两个指针以相同的速度向前移动。当第二个指针指向的入口结点时，第一个指针已经围绕着走了一圈又回到了入口结点。\n",
    "\n",
    "以下图为例，指针P1和P2在初始化时都指向链表的头结点。由于环中有4个结点，指针P1先在链表上向前移动4步。接下来两个指针以相同的速度在链表上向前移动，直到它们相遇。它们相遇的结点正好是环的入口结点啦~"
   ]
  },
  {
   "cell_type": "code",
   "execution_count": 1,
   "metadata": {},
   "outputs": [],
   "source": [
    "class ListNode:\n",
    "    def __init__(self,data=None,next=None):\n",
    "        self.data = data\n",
    "        self.next = next\n",
    "\n",
    "def MeetingNode(Node):\n",
    "    if not isinstance(Node,ListNode) or not Node:\n",
    "        return None\n",
    "    pSlow = Node\n",
    "    pFast = pSlow.next\n",
    "    while pFast and pFast.next != None and pFast != pSlow:\n",
    "        pSlow = pSlow.next\n",
    "        pFast = pFast.next.next\n",
    "    if not pFast or not pFast.next:\n",
    "        return None\n",
    "\n",
    "    return pFast\n",
    "\n",
    "def EntryNodeOfLoop(Node):\n",
    "    if not isinstance(Node,ListNode) or not Node:\n",
    "        return None\n",
    "    meetingNode = MeetingNode(Node)\n",
    "    if not meetingNode:\n",
    "        return None\n",
    "    #统计环内节点数\n",
    "    nodesInLoop = 1\n",
    "    pNode1 = meetingNode\n",
    "    while pNode1.next != meetingNode:\n",
    "        pNode1 = pNode1.next\n",
    "        nodesInLoop += 1\n",
    "    # 开始寻找环的入口\n",
    "    # 先让pNode2移动nodesInLoop次，然后pNode1和pNode2同时移动\n",
    "    # 当两个指针相遇的时候，即是环的入口节点\n",
    "    pNode2 = Node\n",
    "    for i in range(nodesInLoop):\n",
    "        pNode2 = pNode2.next\n",
    "    pNode1 = Node\n",
    "    while pNode1 != pNode2:\n",
    "        pNode1 = pNode1.next\n",
    "        pNode2 = pNode2.next\n",
    "    return pNode1"
   ]
  },
  {
   "cell_type": "code",
   "execution_count": 2,
   "metadata": {},
   "outputs": [
    {
     "name": "stdout",
     "output_type": "stream",
     "text": [
      "2\n"
     ]
    }
   ],
   "source": [
    "if __name__ == '__main__':\n",
    "    node1 = ListNode(1)\n",
    "    node2 = ListNode(2)\n",
    "    node3 = ListNode(3)\n",
    "    node4 = ListNode(4)\n",
    "    node5 = ListNode(5)\n",
    "    node6 = ListNode(6)\n",
    "\n",
    "    node1.next = node2\n",
    "    node2.next = node3\n",
    "    node3.next = node4\n",
    "    node4.next = node5\n",
    "    node5.next = node6\n",
    "    node6.next = node2\n",
    "\n",
    "    a = EntryNodeOfLoop(node1)\n",
    "    print(a.data)"
   ]
  },
  {
   "cell_type": "code",
   "execution_count": null,
   "metadata": {},
   "outputs": [],
   "source": []
  }
 ],
 "metadata": {
  "kernelspec": {
   "display_name": "Python 3",
   "language": "python",
   "name": "python3"
  },
  "language_info": {
   "codemirror_mode": {
    "name": "ipython",
    "version": 3
   },
   "file_extension": ".py",
   "mimetype": "text/x-python",
   "name": "python",
   "nbconvert_exporter": "python",
   "pygments_lexer": "ipython3",
   "version": "3.7.1"
  }
 },
 "nbformat": 4,
 "nbformat_minor": 2
}
